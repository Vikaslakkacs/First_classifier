{
 "cells": [
  {
   "cell_type": "code",
   "execution_count": 2,
   "metadata": {},
   "outputs": [],
   "source": [
    "from collections import namedtuple\n",
    "import os\n",
    "import urllib.request as request\n",
    "from zipfile import ZipFile"
   ]
  },
  {
   "cell_type": "code",
   "execution_count": 3,
   "metadata": {},
   "outputs": [],
   "source": [
    "os.chdir(\"/Users/vikaslakka/Desktop/FSDS/DeepLearning/Projects/CNN_projects/First_classifier\")"
   ]
  },
  {
   "cell_type": "code",
   "execution_count": 4,
   "metadata": {},
   "outputs": [],
   "source": [
    "DataIngestionConfig = namedtuple(\"DataIngestionConfig\",\n",
    "                                 [\n",
    "    \"root_dir\",\n",
    "    \"source_url\",\n",
    "    \"local_data_file\",\n",
    "    \"unzip_dir\"\n",
    "                                 ])"
   ]
  },
  {
   "cell_type": "code",
   "execution_count": null,
   "metadata": {},
   "outputs": [],
   "source": [
    "from dataclasses import dataclass\n",
    "from pathlib import Path\n",
    "\n",
    "@dataclass(frozen=True)\n",
    "class DataIngestionConfig:\n",
    "    root_dir: Path\n",
    "    source_URL: str\n",
    "    local_data_file: Path\n",
    "    unzip_dir: Path"
   ]
  },
  {
   "cell_type": "code",
   "execution_count": 4,
   "metadata": {},
   "outputs": [],
   "source": [
    "from firstClassifier.constants import *\n",
    "from firstClassifier.utils.common import read_yaml, create_directories"
   ]
  },
  {
   "cell_type": "code",
   "execution_count": 5,
   "metadata": {},
   "outputs": [],
   "source": [
    "class ConfigurationManager:\n",
    "\n",
    "    def __init__(\n",
    "        self, \n",
    "        config_filepath = CONFIG_FILE_PATH,\n",
    "        params_filepath= PARAMS_FILE_PATH\n",
    "             ):\n",
    "        \"\"\"_summary_: Creates artifact directories taken from config.yaml file\n",
    "        \"\"\"\n",
    "        self.config= read_yaml(config_filepath)\n",
    "        self.params= read_yaml(params_filepath)\n",
    "        ##Create directories\n",
    "        create_directories([self.config.artifacts_root])\n",
    "\n",
    "    def get_data_ingestion_config(self)->DataIngestionConfig:\n",
    "        \"\"\"Creates root directory for data ingestion and stores all the variables\n",
    "            from config.yaml\n",
    "\n",
    "        Returns:\n",
    "            DataIngestionConfig: DataIngestionConfig\n",
    "        \"\"\"\n",
    "        ##Config contains the attributes that are present in data ingestion in config.yaml\n",
    "        config= self.config.data_ingestion\n",
    "        ##Create directory from root_dir\n",
    "        create_directories([config.root_dir])\n",
    "\n",
    "        data_ingestion_config= DataIngestionConfig(   \n",
    "            root_dir= config.root_dir,\n",
    "            source_url= config.source_url,\n",
    "            local_data_file= config.local_data_file,\n",
    "            unzip_dir= config.unzip_dir\n",
    "            )\n",
    "        return data_ingestion_config"
   ]
  },
  {
   "cell_type": "code",
   "execution_count": 6,
   "metadata": {},
   "outputs": [],
   "source": [
    "### Data ingestion component\n",
    "class DataIngestion:\n",
    "    def __init__(self, config: DataIngestionConfig):\n",
    "        self.config= config\n",
    "\n",
    "    def download_file(self):\n",
    "        \"\"\"Downloads file from the link\n",
    "        \"\"\"\n",
    "        ## Check if the file is present already or not.\n",
    "        if not os.path.exists(self.config.local_data_file):\n",
    "            ##Call the request to retrieve url\n",
    "            filename, headers= request.urlretrieve(self.config.source_url, \n",
    "                                filename=self.config.local_data_file\n",
    "                                )\n",
    "    def _get_updated_list_of_files(self, list_of_files:list):\n",
    "        \"\"\"It gets the list of files that are necessary for the program\n",
    "            files ends with .jpg and Cat or Dog in the file path are only considered\n",
    "\n",
    "        Args:\n",
    "            list_of_files (list): Contains list of files from unzip folder\n",
    "        \"\"\"\n",
    "\n",
    "        return [f for f in list_of_files if f.endswith(\".jpg\") and (\"Cat\" in f or \"Dog\" in f)]\n",
    "    \n",
    "    def _preprocess(self, zf:ZipFile, f:str, working_dir:str):\n",
    "        \"\"\"Places all the files into target folder\n",
    "           and ignores files which as zero size.\n",
    "\n",
    "        Args:\n",
    "            zf (ZipFile): Zipf file\n",
    "            f (str): filename along with path\n",
    "            working_dir (str): target working directory.\n",
    "        \"\"\"\n",
    "        target_filepath= os.path.join(working_dir, f)\n",
    "        if not os.path.exists(target_filepath):\n",
    "            zf.extract(f, working_dir)\n",
    "        \n",
    "        if os.path.getsize(target_filepath)==0:\n",
    "            os.remove(target_filepath)\n",
    "\n",
    "    def unzip_and_clean(self):\n",
    "        \"\"\"Unzip the file and clean the data by checking whether there are \n",
    "            any unwanted files that are present or not.\n",
    "        \"\"\"\n",
    "        with ZipFile(file= self.config.local_data_file, mode= \"r\") as zf:\n",
    "            ## Getting the list of all files available\n",
    "            ## [file1, file/file2, file/file3]\n",
    "            list_of_files= zf.namelist()\n",
    "            ##Keep only useful files\n",
    "            updated_list_of_files= self._get_updated_list_of_files(list_of_files)\n",
    "            ##Preprocessing the files\n",
    "            for f in updated_list_of_files:\n",
    "                self._preprocess(zf, f, self.config.unzip_dir)"
   ]
  },
  {
   "cell_type": "code",
   "execution_count": 7,
   "metadata": {},
   "outputs": [
    {
     "name": "stdout",
     "output_type": "stream",
     "text": [
      "[2023-03-27 16:13:47,031: INFO: common]: yaml file: configs/config.yaml loaded successfully\n",
      "[2023-03-27 16:13:47,033: INFO: common]: yaml file: params.yaml loaded successfully\n",
      "[2023-03-27 16:13:47,034: INFO: common]: created directory at: artifacts\n",
      "[2023-03-27 16:13:47,035: INFO: common]: created directory at: artifacts/data_ingestion\n"
     ]
    }
   ],
   "source": [
    "try:\n",
    "\n",
    "    config= ConfigurationManager()\n",
    "    data_ingestion_config= config.get_data_ingestion_config()\n",
    "    data_ingestion= DataIngestion(config= data_ingestion_config)\n",
    "    data_ingestion.download_file()\n",
    "    data_ingestion.unzip_and_clean()\n",
    "except Exception as e:\n",
    "    raise e"
   ]
  },
  {
   "cell_type": "code",
   "execution_count": null,
   "metadata": {},
   "outputs": [],
   "source": []
  }
 ],
 "metadata": {
  "kernelspec": {
   "display_name": "deepClassifier",
   "language": "python",
   "name": "python3"
  },
  "language_info": {
   "codemirror_mode": {
    "name": "ipython",
    "version": 3
   },
   "file_extension": ".py",
   "mimetype": "text/x-python",
   "name": "python",
   "nbconvert_exporter": "python",
   "pygments_lexer": "ipython3",
   "version": "3.9.16"
  },
  "orig_nbformat": 4
 },
 "nbformat": 4,
 "nbformat_minor": 2
}
