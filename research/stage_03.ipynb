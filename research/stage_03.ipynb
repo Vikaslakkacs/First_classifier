{
 "cells": [
  {
   "cell_type": "code",
   "execution_count": 5,
   "metadata": {},
   "outputs": [],
   "source": [
    "import os\n",
    "import tensorflow as tf\n",
    "os.chdir('../')"
   ]
  },
  {
   "cell_type": "code",
   "execution_count": 6,
   "metadata": {},
   "outputs": [
    {
     "data": {
      "text/plain": [
       "'/Users/vikaslakka/Desktop/FSDS/DeepLearning/Projects/CNN_projects/First_classifier'"
      ]
     },
     "execution_count": 6,
     "metadata": {},
     "output_type": "execute_result"
    }
   ],
   "source": [
    "os.getcwd()"
   ]
  },
  {
   "cell_type": "code",
   "execution_count": 7,
   "metadata": {},
   "outputs": [],
   "source": [
    "from firstClassifier.constants import *\n",
    "from firstClassifier.utils.common import read_yaml, create_directories"
   ]
  },
  {
   "cell_type": "code",
   "execution_count": 16,
   "metadata": {},
   "outputs": [],
   "source": [
    "from dataclasses import dataclass\n",
    "from pathlib import Path\n",
    "\n",
    "@dataclass(frozen=True)\n",
    "class PreapareCallbacksConfig:\n",
    "  root_dir: Path\n",
    "  tensorboard_root_log_dir: Path\n",
    "  checkpoint_model_filepath: Path"
   ]
  },
  {
   "cell_type": "code",
   "execution_count": 20,
   "metadata": {},
   "outputs": [],
   "source": [
    "class ConfigurationManager:\n",
    "\n",
    "    def __init__(\n",
    "        self, \n",
    "        config_filepath = CONFIG_FILE_PATH,\n",
    "        params_filepath= PARAMS_FILE_PATH\n",
    "             ):\n",
    "        \"\"\"_summary_: Creates artifact directories taken from config.yaml file\n",
    "        \"\"\"\n",
    "        self.config= read_yaml(config_filepath)\n",
    "        self.params= read_yaml(params_filepath)\n",
    "        ##Create directories\n",
    "        create_directories([self.config.artifacts_root])\n",
    "\n",
    "    def get_prepare_callback_config(self)->PreapareCallbacksConfig:\n",
    "        \"\"\"Preparing callback configs\n",
    "\n",
    "        Returns:\n",
    "            PreapareCallbackConfig: PreapareCallbackConfig\n",
    "        \"\"\"\n",
    "        ##Config contains the attributes that are present in prepare_base_model in config.yaml\n",
    "        \n",
    "        config= self.config.prepare_callbacks\n",
    "        model_ckpt_dir= os.path.dirname(config.checkpoint_model_filepath)\n",
    "        ##Create directory for checkpoint, tensorboard root log\n",
    "        create_directories([Path(model_ckpt_dir),\n",
    "                            Path(config.tensorboard_root_log_dir)\n",
    "                            ])\n",
    "\n",
    "        prepare_callback_config= PreapareCallbacksConfig(   \n",
    "                root_dir= config.root_dir,\n",
    "                tensorboard_root_log_dir= config.tensorboard_root_log_dir,\n",
    "                checkpoint_model_filepath= config.checkpoint_model_filepath\n",
    "\n",
    "            )\n",
    "        return prepare_callback_config"
   ]
  },
  {
   "cell_type": "code",
   "execution_count": 21,
   "metadata": {},
   "outputs": [],
   "source": [
    "import os\n",
    "import urllib.request as request\n",
    "from zipfile import ZipFile\n",
    "import tensorflow as tf\n",
    "import time\n",
    "class PrepareCallback:\n",
    "    \"\"\"Get the base model and update the parameters with dataset.\n",
    "    Picking up Defined architectures in Tensorflow and updating with dataset available\n",
    "    \"\"\"\n",
    "    def __init__(self, config: PreapareCallbacksConfig):\n",
    "        self.config= config\n",
    "\n",
    "    @property\n",
    "    def _create_tb_callbacks(self):\n",
    "        timestamp= time.strftime(\"%Y-%m-%d-%H-%M-%S\")\n",
    "        tb_running_log_dir= os.path.join(\n",
    "            self.config.tensorboard_root_log_dir, \n",
    "            f\"tb_logs_at_{timestamp}\"\n",
    "        )\n",
    "        return tf.keras.callbacks.TensorBoard(log_dir= tb_running_log_dir)\n",
    "    \n",
    "    @property\n",
    "    def _create_ckpt_callbacks(self):\n",
    "        return tf.keras.callbacks.ModelCheckpoint(\n",
    "            filepath=self.config.checkpoint_model_filepath,\n",
    "            save_best_only=True\n",
    "        )\n",
    "    \n",
    "    def get_tb_ckpt_callbacks(self):\n",
    "        return [\n",
    "            self._create_tb_callbacks,\n",
    "            self._create_ckpt_callbacks\n",
    "        ]\n",
    "    "
   ]
  },
  {
   "cell_type": "code",
   "execution_count": 22,
   "metadata": {},
   "outputs": [
    {
     "name": "stdout",
     "output_type": "stream",
     "text": [
      "[2023-03-30 18:05:41,088: INFO: common]: yaml file: configs/config.yaml loaded successfully\n",
      "[2023-03-30 18:05:41,090: INFO: common]: yaml file: params.yaml loaded successfully\n",
      "[2023-03-30 18:05:41,091: INFO: common]: created directory at: artifacts\n",
      "[2023-03-30 18:05:41,091: INFO: common]: created directory at: artifacts/prepare_callbacks/checkpoint_dir\n",
      "[2023-03-30 18:05:41,092: INFO: common]: created directory at: artifacts/prepare_callbacks/tensorboard_log_dir\n"
     ]
    }
   ],
   "source": [
    "try:\n",
    "    config= ConfigurationManager()\n",
    "    prepare_callbacks_config= config.get_prepare_callback_config()\n",
    "    prepare_callbacks= PrepareCallback(prepare_callbacks_config)\n",
    "    callback_list= prepare_callbacks.get_tb_ckpt_callbacks()\n",
    "\n",
    "except Exception as e:\n",
    "    raise e\n"
   ]
  },
  {
   "cell_type": "code",
   "execution_count": null,
   "metadata": {},
   "outputs": [],
   "source": []
  }
 ],
 "metadata": {
  "kernelspec": {
   "display_name": "firstClassifier",
   "language": "python",
   "name": "python3"
  },
  "language_info": {
   "codemirror_mode": {
    "name": "ipython",
    "version": 3
   },
   "file_extension": ".py",
   "mimetype": "text/x-python",
   "name": "python",
   "nbconvert_exporter": "python",
   "pygments_lexer": "ipython3",
   "version": "3.9.16"
  },
  "orig_nbformat": 4
 },
 "nbformat": 4,
 "nbformat_minor": 2
}
